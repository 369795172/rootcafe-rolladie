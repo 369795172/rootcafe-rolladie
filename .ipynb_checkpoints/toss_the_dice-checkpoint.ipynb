{
 "cells": [
  {
   "cell_type": "markdown",
   "id": "feb1f4b4-663a-4d19-81bd-9aabbac8899a",
   "metadata": {},
   "source": [
    "# Toss the dice, win a drink nice"
   ]
  },
  {
   "cell_type": "code",
   "execution_count": 7,
   "id": "9e577078-beed-4fc5-aa5a-0b436b7752c8",
   "metadata": {},
   "outputs": [],
   "source": [
    "import random"
   ]
  },
  {
   "cell_type": "code",
   "execution_count": 12,
   "id": "7900137d-783e-4a6b-8b0e-97e5aaac54f1",
   "metadata": {},
   "outputs": [],
   "source": [
    "def get_random_integer():\n",
    "    return random.randint(0, 10)"
   ]
  },
  {
   "cell_type": "code",
   "execution_count": 14,
   "id": "3b04727c-a4fa-447a-b920-86495c395016",
   "metadata": {},
   "outputs": [
    {
     "name": "stdout",
     "output_type": "stream",
     "text": [
      "Random number: 10\n"
     ]
    }
   ],
   "source": [
    "# Toss the dice\n",
    "random_number = get_random_integer()\n",
    "print(\"Random number:\", random_number)"
   ]
  },
  {
   "cell_type": "code",
   "execution_count": null,
   "id": "99cf5119-9359-4f41-bb05-77b33e7966ba",
   "metadata": {},
   "outputs": [],
   "source": []
  }
 ],
 "metadata": {
  "kernelspec": {
   "display_name": "Python 3 (ipykernel)",
   "language": "python",
   "name": "python3"
  },
  "language_info": {
   "codemirror_mode": {
    "name": "ipython",
    "version": 3
   },
   "file_extension": ".py",
   "mimetype": "text/x-python",
   "name": "python",
   "nbconvert_exporter": "python",
   "pygments_lexer": "ipython3",
   "version": "3.9.6"
  }
 },
 "nbformat": 4,
 "nbformat_minor": 5
}
